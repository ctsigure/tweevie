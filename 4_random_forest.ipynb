{
 "cells": [
  {
   "cell_type": "markdown",
   "metadata": {},
   "source": [
    "# released films"
   ]
  },
  {
   "cell_type": "code",
   "execution_count": null,
   "metadata": {},
   "outputs": [],
   "source": [
    "#https://www.kaggle.com/avnovikov/predicting-box-office\n",
    "import numpy as np\n",
    "import pandas as pd\n",
    "import statsmodels.api as sm\n",
    "import matplotlib.pyplot as plt\n",
    "\n",
    "df = pd.read_csv('analysis_results/allfilms.csv')\n",
    "\n",
    "fiveweeks = df.loc[(df[\"days since release\"]>= 0) & (df[\"days since release\"]<=34), :].reset_index(drop = True)\n",
    "fiveweeks[\"box office\"] = fiveweeks[\"box office\"]/1000\n",
    "fiveweeks.head()"
   ]
  },
  {
   "cell_type": "code",
   "execution_count": null,
   "metadata": {},
   "outputs": [],
   "source": [
    "x = fiveweeks[[\"daily tweet count\",\"days since release\",\"weekend\",\"star\"]]\n",
    "y = fiveweeks[\"box office\"].values"
   ]
  },
  {
   "cell_type": "code",
   "execution_count": null,
   "metadata": {},
   "outputs": [],
   "source": [
    "from sklearn.model_selection import train_test_split\n",
    "x_train, x_test, y_train, y_test = train_test_split(x, y, test_size=0.25, random_state=0)\n"
   ]
  },
  {
   "cell_type": "code",
   "execution_count": null,
   "metadata": {},
   "outputs": [],
   "source": [
    "from sklearn.ensemble import RandomForestRegressor\n",
    "\n",
    "clf = RandomForestRegressor(n_estimators=1000,max_depth=10).fit( x_train, y_train )\n",
    "clf_score = clf.score(x_test, y_test)\n",
    "\n",
    "\n"
   ]
  },
  {
   "cell_type": "code",
   "execution_count": null,
   "metadata": {},
   "outputs": [],
   "source": [
    "x_vals = x_test['daily tweet count']\n",
    "y_predicted = clf.predict(x_test)\n",
    "\n",
    "plt.style.use('ggplot')\n",
    "\n",
    "#predicted = #f46d43\n",
    "#actual = #a6d96a\n",
    "#border = #ffffbf\n",
    "\n",
    "fig = plt.figure(figsize = (20,16))\n",
    "ax1 = fig.add_subplot(211)\n",
    "ax2 = fig.add_subplot(212)\n",
    "\n",
    "# A function that takes in the subplot handle and formats the subplot\n",
    "def figformat(ax, title, clf_score):\n",
    "    ax.set_xlabel('daily tweets', fontsize = 20)\n",
    "    ax.set_ylabel('boxoffice (thousands)', fontsize = 20)\n",
    "    ax.set_title(title, fontsize = 24)\n",
    "    ax.tick_params(axis='both', length = 10, width = 5, labelsize = 18)\n",
    "    ax.tick_params(axis='both', which = \"minor\", length = 8, width = 2)\n",
    "    lgn_h = ax.legend(loc = \"upper left\", prop={'size': 20})\n",
    "    frame = lgn_h.get_frame()\n",
    "    frame.set_facecolor('white')\n",
    "    ax.text(0.02,0.7,'classifier accuracy score = {:.2f}'.format(clf_score),transform=ax.transAxes, fontsize = 18)\n",
    "    \n",
    "def figformat2(ax):\n",
    "    ax.set_xscale('log')\n",
    "    ax.set_yscale('log') \n",
    "    ax.set_xlim(0.9, 6500)\n",
    "    ax.set_ylim(0.9, 30000)\n",
    "\n",
    "ax1.scatter(x_vals, y_predicted, c = \"#f46d43\", edgecolor = \"#ffffbf\", s = 200, alpha = 0.8, label = \"predicted data\")\n",
    "ax1.scatter(x_vals, y_test, c = \"#a6d96a\", edgecolor = \"#ffffbf\", s = 200, alpha = 0.8, label = \"actual data\")\n",
    "ax2.scatter(x_vals, y_predicted, c = \"#f46d43\", edgecolor = \"#ffffbf\", s = 200, alpha = 0.8, label = \"predicted data\")\n",
    "ax2.scatter(x_vals, y_test, c = \"#a6d96a\", edgecolor = \"#ffffbf\", s = 200, alpha = 0.8, label = \"actual data\")\n",
    "\n",
    "figformat(ax1, \"Box Office vs Daily Tweet Mentions\", clf_score)\n",
    "figformat(ax2, \"Box Office vs Daily Tweet Mentions (in log scale)\", clf_score)\n",
    "figformat2(ax2)\n",
    "\n",
    "plt.subplots_adjust(hspace=0.3)\n",
    "plt.savefig('analysis_results/overallplot.png')"
   ]
  },
  {
   "cell_type": "markdown",
   "metadata": {},
   "source": [
    "# opening night"
   ]
  },
  {
   "cell_type": "code",
   "execution_count": null,
   "metadata": {},
   "outputs": [],
   "source": [
    "prerelease = df.loc[df[\"days since release\"].isin([0,-1])]\n",
    "prerelease = prerelease.loc[prerelease[\"title\"] != \"DarkestMinds\",:].reset_index(drop = True)\n",
    "prerelease"
   ]
  },
  {
   "cell_type": "code",
   "execution_count": null,
   "metadata": {},
   "outputs": [],
   "source": [
    "daybefore = df.loc[df[\"days since release\"]== -1, :].set_index(\"title\")\n",
    "dayof = df.loc[df[\"days since release\"]== 0, :].set_index(\"title\")\n",
    "\n",
    "filmtitles = dayof.index.values\n",
    "\n",
    "projection_dict = []\n",
    "for film in filmtitles:\n",
    "    tweet_daybefore = daybefore.loc[film, \"daily tweet count\"]\n",
    "    tweet_dayof = dayof.loc[film, \"daily tweet count\"]\n",
    "    opening_gross = dayof.loc[film,\"box office\"]\n",
    "    star = dayof.loc[film, \"star\"]\n",
    "    projection_dict.append({\"title\":film, \"tweet day -1\": tweet_daybefore, \"tweet day 0\": tweet_dayof, \"star\": star, \"opening\": opening_gross})\n",
    "    \n",
    "projection = pd.DataFrame(projection_dict)\n",
    "projection"
   ]
  },
  {
   "cell_type": "code",
   "execution_count": null,
   "metadata": {},
   "outputs": [],
   "source": [
    "x = projection[[\"tweet day -1\",\"star\"]]\n",
    "y = projection[\"opening\"].values\n",
    "#x_train, x_test, y_train, y_test = train_test_split(x, y, test_size=0.25, random_state=0)\n",
    "x_train = x\n",
    "x_test = x\n",
    "y_train = y\n",
    "y_test =y\n"
   ]
  },
  {
   "cell_type": "code",
   "execution_count": null,
   "metadata": {},
   "outputs": [],
   "source": [
    "clf = RandomForestRegressor(n_estimators=1000,max_depth=10).fit( x_train, y_train )\n",
    "clf_score = clf.score(x_test, y_test)\n",
    "print ('The classifier accuracy score is {:.2f}'.format(clf_score))\n",
    "\n",
    "x_vals = x_test['tweet day -1']\n",
    "y_predicted = clf.predict(x_test)"
   ]
  },
  {
   "cell_type": "code",
   "execution_count": null,
   "metadata": {},
   "outputs": [],
   "source": [
    "fig = plt.figure(figsize = (15,6))\n",
    "ax1 = fig.add_subplot(111)\n",
    "\n",
    "ax1.scatter(x_vals, y_predicted, c = \"#f46d43\", edgecolor = \"#ffffbf\", s = 200, alpha = 0.8, label = \"predicted data\")\n",
    "ax1.scatter(x_vals, y_test, c = \"#a6d96a\", edgecolor = \"#ffffbf\", s = 200, alpha = 0.8, label = \"actual data\")\n",
    "\n",
    "figformat(ax1, \"Box Office vs Daily Tweet Mentions\", clf_score)\n",
    "\n",
    "plt.subplots_adjust(hspace=0.3)\n",
    "plt.savefig('analysis_results/overallplot.png')"
   ]
  },
  {
   "cell_type": "code",
   "execution_count": null,
   "metadata": {},
   "outputs": [],
   "source": []
  }
 ],
 "metadata": {
  "kernelspec": {
   "display_name": "Python 3",
   "language": "python",
   "name": "python3"
  },
  "language_info": {
   "codemirror_mode": {
    "name": "ipython",
    "version": 3
   },
   "file_extension": ".py",
   "mimetype": "text/x-python",
   "name": "python",
   "nbconvert_exporter": "python",
   "pygments_lexer": "ipython3",
   "version": "3.6.5"
  }
 },
 "nbformat": 4,
 "nbformat_minor": 2
}
